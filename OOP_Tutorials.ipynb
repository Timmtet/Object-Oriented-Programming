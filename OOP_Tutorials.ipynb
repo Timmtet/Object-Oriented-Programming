{
 "cells": [
  {
   "cell_type": "markdown",
   "id": "d1893bcb",
   "metadata": {},
   "source": [
    "Tutorial 1: Classes and Instances"
   ]
  },
  {
   "cell_type": "code",
   "execution_count": 5,
   "id": "42baf1f7",
   "metadata": {},
   "outputs": [],
   "source": [
    "class Employee:\n",
    "    def __init__(self, first, last, pay):\n",
    "        '''\n",
    "        Class = Employee\n",
    "        Methods = init, fullname\n",
    "        Attribute of our class/ Instance variables= self, first, last, pay\n",
    "        emp_1 and emp_2 = Intances of the Employee class\n",
    "        \n",
    "        '''\n",
    "        \n",
    "        self.first = first\n",
    "        self.last = last\n",
    "        self.pay = pay\n",
    "        self.email = first + '.' + last + '@company.com'\n",
    "        \n",
    "        \n",
    "    def fullname(self):\n",
    "        return '{} {}'.format(self.first, self.last)\n",
    "    \n",
    "        \n",
    "emp_1 = Employee('Timi', 'Temi', 100000)\n",
    "emp_2 = Employee('Tolu', 'Tola', 30000)\n",
    "    "
   ]
  },
  {
   "cell_type": "code",
   "execution_count": 6,
   "id": "542a0527",
   "metadata": {},
   "outputs": [
    {
     "data": {
      "text/plain": [
       "('Timi.Temi@company.com', 'Tolu.Tola@company.com')"
      ]
     },
     "execution_count": 6,
     "metadata": {},
     "output_type": "execute_result"
    }
   ],
   "source": [
    "emp_1.email, emp_2.email"
   ]
  },
  {
   "cell_type": "code",
   "execution_count": 10,
   "id": "8768a583",
   "metadata": {},
   "outputs": [
    {
     "name": "stdout",
     "output_type": "stream",
     "text": [
      "Timi Temi\n",
      "Timi Temi\n"
     ]
    }
   ],
   "source": [
    "# These two mean the same thing\n",
    "print(emp_1.fullname())\n",
    "print(Employee.fullname(emp_1))"
   ]
  },
  {
   "cell_type": "code",
   "execution_count": null,
   "id": "031001db",
   "metadata": {},
   "outputs": [],
   "source": []
  },
  {
   "cell_type": "markdown",
   "id": "d3411e49",
   "metadata": {},
   "source": [
    "Tutorial 2: class variables"
   ]
  },
  {
   "cell_type": "markdown",
   "id": "2772e991",
   "metadata": {},
   "source": [
    "Class variable are variables that are share bewteen all instances of a class. Instance variable can be unique to each instance."
   ]
  },
  {
   "cell_type": "code",
   "execution_count": 33,
   "id": "0d674a39",
   "metadata": {},
   "outputs": [],
   "source": [
    "class Employee:\n",
    "    emp_num = 0\n",
    "    raise_amount = 1.7\n",
    "    def __init__(self, first, last, pay):\n",
    "        '''\n",
    "        Class variable = raise_amount\n",
    "        \n",
    "        '''\n",
    "        \n",
    "        self.first = first\n",
    "        self.last = last\n",
    "        self.pay = pay\n",
    "        self.email = first + '.' + last + '@company.com'\n",
    "        \n",
    "        Employee.emp_num +=1\n",
    "    def fullname(self):\n",
    "        return '{} {}'.format(self.first, self.last)\n",
    "    \n",
    "    def apply_raise(self):\n",
    "        self.pay = int(self.pay * Employee.raise_amount)\n",
    "        \n",
    "emp_1 = Employee('Timi', 'Temi', 100000)\n",
    "emp_2 = Employee('Tolu', 'Tola', 30000)\n",
    "emp_3 = Employee('Tolu', 'Bola', 60000)"
   ]
  },
  {
   "cell_type": "code",
   "execution_count": 34,
   "id": "933b4f86",
   "metadata": {},
   "outputs": [
    {
     "name": "stdout",
     "output_type": "stream",
     "text": [
      "1.7\n"
     ]
    }
   ],
   "source": [
    "print(emp_2.raise_amount)"
   ]
  },
  {
   "cell_type": "code",
   "execution_count": 35,
   "id": "a6fec295",
   "metadata": {},
   "outputs": [
    {
     "name": "stdout",
     "output_type": "stream",
     "text": [
      "3\n"
     ]
    }
   ],
   "source": [
    "print(Employee.emp_num)"
   ]
  },
  {
   "cell_type": "code",
   "execution_count": null,
   "id": "c6f73f56",
   "metadata": {},
   "outputs": [],
   "source": []
  }
 ],
 "metadata": {
  "kernelspec": {
   "display_name": "Python 3 (ipykernel)",
   "language": "python",
   "name": "python3"
  },
  "language_info": {
   "codemirror_mode": {
    "name": "ipython",
    "version": 3
   },
   "file_extension": ".py",
   "mimetype": "text/x-python",
   "name": "python",
   "nbconvert_exporter": "python",
   "pygments_lexer": "ipython3",
   "version": "3.11.3"
  }
 },
 "nbformat": 4,
 "nbformat_minor": 5
}
