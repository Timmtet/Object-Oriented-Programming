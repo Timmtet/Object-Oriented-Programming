{
 "cells": [
  {
   "cell_type": "markdown",
   "id": "d1893bcb",
   "metadata": {},
   "source": [
    "Tutorial 1: Classes and Instances"
   ]
  },
  {
   "cell_type": "code",
   "execution_count": 5,
   "id": "42baf1f7",
   "metadata": {},
   "outputs": [],
   "source": [
    "class Employee:\n",
    "    def __init__(self, first, last, pay):\n",
    "        '''\n",
    "        Class = Employee\n",
    "        Methods = init, fullname\n",
    "        Attribute of our class = self, first, last, pay\n",
    "        emp_1 and emp_2 = Intances of the Employee class\n",
    "        \n",
    "        '''\n",
    "        \n",
    "        self.first = first\n",
    "        self.last = last\n",
    "        self.pay = pay\n",
    "        self.email = first + '.' + last + '@company.com'\n",
    "        \n",
    "        \n",
    "    def fullname(self):\n",
    "        return '{} {}'.format(self.first, self.last)\n",
    "    \n",
    "        \n",
    "emp_1 = Employee('Timi', 'Temi', 100000)\n",
    "emp_2 = Employee('Tolu', 'Tola', 30000)\n",
    "    "
   ]
  },
  {
   "cell_type": "code",
   "execution_count": 6,
   "id": "542a0527",
   "metadata": {},
   "outputs": [
    {
     "data": {
      "text/plain": [
       "('Timi.Temi@company.com', 'Tolu.Tola@company.com')"
      ]
     },
     "execution_count": 6,
     "metadata": {},
     "output_type": "execute_result"
    }
   ],
   "source": [
    "emp_1.email, emp_2.email"
   ]
  },
  {
   "cell_type": "code",
   "execution_count": 10,
   "id": "8768a583",
   "metadata": {},
   "outputs": [
    {
     "name": "stdout",
     "output_type": "stream",
     "text": [
      "Timi Temi\n",
      "Timi Temi\n"
     ]
    }
   ],
   "source": [
    "# These two mean the same thing\n",
    "print(emp_1.fullname())\n",
    "print(Employee.fullname(emp_1))"
   ]
  },
  {
   "cell_type": "code",
   "execution_count": null,
   "id": "031001db",
   "metadata": {},
   "outputs": [],
   "source": []
  },
  {
   "cell_type": "code",
   "execution_count": null,
   "id": "de46e2cc",
   "metadata": {},
   "outputs": [],
   "source": []
  }
 ],
 "metadata": {
  "kernelspec": {
   "display_name": "Python 3 (ipykernel)",
   "language": "python",
   "name": "python3"
  },
  "language_info": {
   "codemirror_mode": {
    "name": "ipython",
    "version": 3
   },
   "file_extension": ".py",
   "mimetype": "text/x-python",
   "name": "python",
   "nbconvert_exporter": "python",
   "pygments_lexer": "ipython3",
   "version": "3.9.12"
  }
 },
 "nbformat": 4,
 "nbformat_minor": 5
}
